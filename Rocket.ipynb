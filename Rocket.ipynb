{
 "metadata": {
  "name": "",
  "signature": "sha256:47e2524183d763df0f96577159d4f0c2d8ed58af9ab38e2120da87392e297bc8"
 },
 "nbformat": 3,
 "nbformat_minor": 0,
 "worksheets": [
  {
   "cells": [
    {
     "cell_type": "code",
     "collapsed": false,
     "input": [
      "import numpy\n",
      "import matplotlib.pyplot as plt\n",
      "m_s=50\n",
      "g=9.81\n",
      "rho=1.091\n",
      "A=3.14*0.5**2\n",
      "v_e=325\n",
      "C_D=0.15\n",
      "m_po=100\n",
      "dt=0.001\n",
      "v=0\n",
      "h=0\n",
      "t=0\n",
      "m_prate=20\n",
      "dv=0\n",
      "dh=0\n",
      "v_max=0\n",
      "t_vmax=0\n",
      "h_vmax=0\n",
      "record=0\n",
      "while h>=0:\n",
      "        if t<=5:\n",
      "            m_prate=20\n",
      "            m_p=m_po-m_prate*t\n",
      "        else:\n",
      "            m_prate=0\n",
      "            m_p=0\n",
      "        a=(-(m_s+m_p)*g+m_prate*v_e-0.5*rho*v*abs(v)*A*C_D)/(m_s+m_p)\n",
      "        if a<0:\n",
      "            if record==0:\n",
      "                v_max=v\n",
      "                t_vmax=t\n",
      "                h_vmax=h\n",
      "                record=1\n",
      "                #break\n",
      "        dv=dt*a\n",
      "        v=v+dv\n",
      "        dh=dt*v\n",
      "        #if dh<0:\n",
      "        if h<0:\n",
      "            break\n",
      "        h=h+dh\n",
      "        t=t+dt\n",
      "\n",
      "print \"v_max=\" \n",
      "print v_max\n",
      "print \"t_vmax=\"\n",
      "print t_max\n",
      "print \"h_vmax=\"\n",
      "print h_vmax\n",
      "print \"h=\"\n",
      "print h\n",
      "print \"v=\"\n",
      "print v\n",
      "print \"t=\"\n",
      "print t\n"
     ],
     "language": "python",
     "metadata": {},
     "outputs": [
      {
       "output_type": "stream",
       "stream": "stdout",
       "text": [
        "v_max=\n",
        "232.466501811\n",
        "t_vmax=\n",
        "5.0\n",
        "h_vmax=\n",
        "537.789262075\n",
        "h=\n",
        "-0.0343786063335\n",
        "v=\n",
        "-86.0161983022\n",
        "t=\n",
        "37.348\n"
       ]
      }
     ],
     "prompt_number": 65
    },
    {
     "cell_type": "code",
     "collapsed": false,
     "input": [],
     "language": "python",
     "metadata": {},
     "outputs": []
    }
   ],
   "metadata": {}
  }
 ]
}